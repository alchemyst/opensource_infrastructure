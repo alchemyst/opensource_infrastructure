{
 "cells": [
  {
   "cell_type": "markdown",
   "metadata": {
    "slideshow": {
     "slide_type": "slide"
    }
   },
   "source": [
    "Understanding Open Source Collaboration Infrastructure\n",
    "=============================\n",
    "Carl Sandrock \n",
    "----------\n",
    "\n",
    "OpenSIM 2015-11-27"
   ]
  },
  {
   "cell_type": "markdown",
   "metadata": {
    "slideshow": {
     "slide_type": "subslide"
    }
   },
   "source": [
    "Enabling collaboration\n",
    "------------------------\n",
    "The most successful open source software attracts collaborators from across the globe.\n",
    "\n",
    "Infrastructure supports\n",
    "\n",
    "* Building\n",
    "* Sharing\n",
    "* Testing\n",
    "* Documenting\n"
   ]
  },
  {
   "cell_type": "markdown",
   "metadata": {
    "slideshow": {
     "slide_type": "slide"
    }
   },
   "source": [
    "Repeatable environment\n",
    "---------------------\n",
    "\n",
    "<img src=\"it-works-on-my-computer.png\">"
   ]
  },
  {
   "cell_type": "markdown",
   "metadata": {
    "slideshow": {
     "slide_type": "subslide"
    }
   },
   "source": [
    "Build system\n",
    "------------\n",
    "\n",
    "\"How do I compile this?\"\n",
    "\n",
    "* Make ([autotools](http://www.gnu.org/software/automake/manual/html_node/GNU-Build-System.html#GNU-Build-System))\n",
    "  * `./configure && make && make install`\n",
    "  * OpenFOAM uses Make.\n",
    "* or a more modern alternative like [CMake](https://cmake.org/) which is made by the VTK guys or [SCons](http://www.scons.org/) which is Python based."
   ]
  },
  {
   "cell_type": "markdown",
   "metadata": {
    "slideshow": {
     "slide_type": "subslide"
    }
   },
   "source": [
    "Virtual environments\n",
    "-------------------\n",
    "\n",
    "* [virtualenv](https://virtualenv.readthedocs.org/en/latest/) with pip\n",
    "\n",
    "    `pip --freeze > requirements.txt`\n",
    "    \n",
    "    `pip -r requirements.txt`\n",
    "\n",
    "\n",
    "* [Conda](http://conda.pydata.org/docs/intro.html) combines both functions\n"
   ]
  },
  {
   "cell_type": "markdown",
   "metadata": {
    "slideshow": {
     "slide_type": "slide"
    }
   },
   "source": [
    "Version control system\n",
    "---------------------\n",
    "\n",
    "<img src=\"vcyoda.png\">\n",
    "\n",
    "\"What have I done?\"\n",
    "\"What have you done?\"\n",
    "\"How's your's different from mine?\"\n",
    "\n",
    "* These days I can only really recommend [git](https://git-scm.com/)\n",
    "\n",
    "  * [learn git branching](http://pcottle.github.io/learnGitBranching/?demo)\n",
    "  * OpenFOAM uses git\n"
   ]
  },
  {
   "cell_type": "markdown",
   "metadata": {
    "slideshow": {
     "slide_type": "slide"
    }
   },
   "source": [
    "Hosting\n",
    "--------\n",
    "\n",
    "<img src=\"emailcode.png\">\n",
    "\n",
    "Once you've started keeping your souce in version control, it becomes really easy to share it online. Right now Github is the powerhouse of Open Source.\n",
    "\n",
    "* [Github](github.com)"
   ]
  },
  {
   "cell_type": "markdown",
   "metadata": {
    "slideshow": {
     "slide_type": "slide"
    }
   },
   "source": [
    "Issue Tracking\n",
    "-------------\n",
    "\n",
    "* Github supplies issue tracking as part of its hosting, nicely integrated into the commit handling process."
   ]
  },
  {
   "cell_type": "markdown",
   "metadata": {
    "slideshow": {
     "slide_type": "slide"
    }
   },
   "source": [
    "Documentation\n",
    "--------------\n",
    "\n",
    "\"How does this even work?\"\n",
    "\n",
    "* [ReadTheDocs]()\n"
   ]
  },
  {
   "cell_type": "markdown",
   "metadata": {
    "slideshow": {
     "slide_type": "subslide"
    }
   },
   "source": [
    "Testing\n",
    "--------\n",
    "The Python standard library contains two testing modules:\n",
    "* [unittest](https://docs.python.org/2/library/unittest.html)\n",
    "* [doctests](https://docs.python.org/2/library/doctest.html)\n",
    "\n",
    "Testing enables this magical idea:\n",
    "* `git bisect` can find errors in commits completely automatically. Check [this example](http://www.metaltoad.com/blog/beginners-guide-git-bisect-process-elimination)\n",
    "\n",
    "Combined with hosting you get extra benefits like automatic checking of commits:\n",
    "* Continuous Integration (Check on different systems) [Travis CI](travis-ci.com)\n"
   ]
  },
  {
   "cell_type": "markdown",
   "metadata": {
    "slideshow": {
     "slide_type": "subslide"
    }
   },
   "source": [
    "Coverage\n",
    "----------\n",
    "\n",
    "<img src=\"here-be-dragons.jpg\">\n",
    "\n",
    "Once you get into testing, you probably want to know what code is not actually tested. This is where coverage comes in.\n",
    "\n",
    "* [Coverage](https://pypi.python.org/pypi/coverage)\n",
    "\n",
    "There is an online version of this here:\n",
    "* [Coveralls](https://coveralls.io)\n"
   ]
  },
  {
   "cell_type": "markdown",
   "metadata": {},
   "source": [
    "Code quality\n",
    "-------------\n",
    "\n",
    "You should learn to run several code quality tools over your code. At least \n",
    "* [pep8](https://pypi.python.org/pypi/pep8), but also \n",
    "* [pylint](http://www.pylint.org/) and \n",
    "* [pyflakes](https://pypi.python.org/pypi/pyflakes). \n",
    "\n",
    "As usual there is an online version:\n",
    "* [landscape.io](landscape.io)"
   ]
  },
  {
   "cell_type": "markdown",
   "metadata": {},
   "source": [
    "Provisioning\n",
    "------------\n",
    "\n",
    "These tools combine to make it possible to run your code anywhere. [Ansible](http://www.ansible.com/) allows you to script the whole process of getting a machine running, which you can then package with [Docker](https://www.docker.com/). If you need more machines, you can buy time on [AWS](http://aws.amazon.com).\n"
   ]
  }
 ],
 "metadata": {
  "celltoolbar": "Slideshow",
  "kernelspec": {
   "display_name": "Python 2",
   "language": "python",
   "name": "python2"
  },
  "language_info": {
   "codemirror_mode": {
    "name": "ipython",
    "version": 2
   },
   "file_extension": ".py",
   "mimetype": "text/x-python",
   "name": "python",
   "nbconvert_exporter": "python",
   "pygments_lexer": "ipython2",
   "version": "2.7.2"
  }
 },
 "nbformat": 4,
 "nbformat_minor": 0
}
